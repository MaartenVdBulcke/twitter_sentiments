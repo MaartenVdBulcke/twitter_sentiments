{
 "cells": [
  {
   "cell_type": "code",
   "execution_count": null,
   "id": "3cea0707-5b29-4c42-938a-715307d65363",
   "metadata": {},
   "outputs": [],
   "source": [
    "import numpy as np \n",
    "import seaborn as sns \n",
    "import matplotlib.pyplot as plt\n",
    "from sklearn.metrics import roc_curve, auc\n",
    "\n",
    "import nltk\n",
    "from nltk.corpus import stopwords\n",
    "from nltk.stem import PorterStemmer \n",
    "from sklearn.model_selection import train_test_split\n",
    "# from mlxtend.plotting import plot_confusion_matrix\n",
    "import matplotlib.cm as cm\n",
    "from matplotlib import rcParams\n",
    "from collections import Counter\n",
    "from nltk.tokenize import RegexpTokenizer\n",
    "import re\n",
    "import string\n",
    "from tensorflow.keras.layers import LSTM, Activation, Dense, Dropout, Input, Embedding\n",
    "from tensorflow.keras.models import Model\n",
    "from tensorflow.keras.optimizers import RMSprop\n",
    "from tensorflow.keras.preprocessing.text import Tokenizer\n",
    "from tensorflow.keras.preprocessing import sequence\n",
    "%matplotlib inline\n",
    "import warnings\n",
    "warnings.filterwarnings(\"ignore\")\n"
   ]
  },
  {
   "cell_type": "code",
   "execution_count": null,
   "id": "48fdfee5-fa82-45af-a672-27426b56584e",
   "metadata": {},
   "outputs": [],
   "source": []
  },
  {
   "cell_type": "code",
   "execution_count": null,
   "id": "487e892c-7fe4-471c-9fa5-62e7c48c94ed",
   "metadata": {},
   "outputs": [],
   "source": []
  },
  {
   "cell_type": "code",
   "execution_count": null,
   "id": "6ed060b7-5cd5-4137-a988-9f6b6d10310b",
   "metadata": {},
   "outputs": [],
   "source": []
  },
  {
   "cell_type": "code",
   "execution_count": null,
   "id": "c58077bb-bee0-4291-9dfa-c4f9a2765989",
   "metadata": {},
   "outputs": [],
   "source": []
  },
  {
   "cell_type": "code",
   "execution_count": 21,
   "id": "e2e6d742-9e62-4a6e-9d1d-7a6678e13389",
   "metadata": {},
   "outputs": [],
   "source": []
  },
  {
   "cell_type": "code",
   "execution_count": 21,
   "id": "082e1e72-d85e-4aac-9db0-4851e465fd67",
   "metadata": {},
   "outputs": [],
   "source": []
  },
  {
   "cell_type": "code",
   "execution_count": 21,
   "id": "7e07bde5-bcff-4d19-b176-d0e8e8655ff7",
   "metadata": {},
   "outputs": [],
   "source": [
    "import pandas as pd \n",
    "import string\n",
    "import re"
   ]
  },
  {
   "cell_type": "code",
   "execution_count": 34,
   "id": "7f67197e-236a-44d0-a6f9-c07651311d8d",
   "metadata": {},
   "outputs": [],
   "source": [
    "from sklearn.metrics import roc_auc_score, accuracy_score\n",
    "from sklearn.metrics import classification_report, confusion_matrix"
   ]
  },
  {
   "cell_type": "code",
   "execution_count": 14,
   "id": "5d4fec6d-e2ab-4a01-a1d6-b8c5818f838b",
   "metadata": {},
   "outputs": [],
   "source": [
    "from nltk.tokenize import word_tokenize\n",
    "from nltk.corpus import wordnet, stopwords\n",
    "from nltk.sentiment.vader import SentimentIntensityAnalyzer"
   ]
  },
  {
   "cell_type": "code",
   "execution_count": 17,
   "id": "6a78a52a-5111-474e-bd96-4b39e1d4033c",
   "metadata": {},
   "outputs": [],
   "source": [
    "import nltk\n",
    "nltk.download('vader_lexicon')"
   ]
  },
  {
   "cell_type": "markdown",
   "id": "1c69d8af-d04b-4c8a-86b7-f9637880d0c0",
   "metadata": {},
   "source": [
    "### PREPROCESS THE SENTIMENT140 DATASET"
   ]
  },
  {
   "cell_type": "code",
   "execution_count": 2,
   "id": "69b3315f-118b-49ab-8efd-013ab7fdae36",
   "metadata": {},
   "outputs": [],
   "source": [
    "sentiment140_original = pd.read_csv('csv/training.1600000.processed.noemoticon.csv', engine='python', encoding='latin-1', header=None)"
   ]
  },
  {
   "cell_type": "code",
   "execution_count": 3,
   "id": "90adca38-da69-4eb6-9c2a-0e54320de8ae",
   "metadata": {},
   "outputs": [],
   "source": [
    "sentiment140 = sentiment140_original.copy()"
   ]
  },
  {
   "cell_type": "code",
   "execution_count": 4,
   "id": "a8634b5c-bc8f-4084-8f6b-52423abdc800",
   "metadata": {},
   "outputs": [
    {
     "data": {
      "text/html": [
       "<div>\n",
       "<style scoped>\n",
       "    .dataframe tbody tr th:only-of-type {\n",
       "        vertical-align: middle;\n",
       "    }\n",
       "\n",
       "    .dataframe tbody tr th {\n",
       "        vertical-align: top;\n",
       "    }\n",
       "\n",
       "    .dataframe thead th {\n",
       "        text-align: right;\n",
       "    }\n",
       "</style>\n",
       "<table border=\"1\" class=\"dataframe\">\n",
       "  <thead>\n",
       "    <tr style=\"text-align: right;\">\n",
       "      <th></th>\n",
       "      <th>label</th>\n",
       "      <th>id</th>\n",
       "      <th>datetime</th>\n",
       "      <th>query</th>\n",
       "      <th>user</th>\n",
       "      <th>tweet</th>\n",
       "    </tr>\n",
       "  </thead>\n",
       "  <tbody>\n",
       "    <tr>\n",
       "      <th>0</th>\n",
       "      <td>0</td>\n",
       "      <td>1467810369</td>\n",
       "      <td>Mon Apr 06 22:19:45 PDT 2009</td>\n",
       "      <td>NO_QUERY</td>\n",
       "      <td>_TheSpecialOne_</td>\n",
       "      <td>@switchfoot http://twitpic.com/2y1zl - Awww, t...</td>\n",
       "    </tr>\n",
       "    <tr>\n",
       "      <th>1</th>\n",
       "      <td>0</td>\n",
       "      <td>1467810672</td>\n",
       "      <td>Mon Apr 06 22:19:49 PDT 2009</td>\n",
       "      <td>NO_QUERY</td>\n",
       "      <td>scotthamilton</td>\n",
       "      <td>is upset that he can't update his Facebook by ...</td>\n",
       "    </tr>\n",
       "    <tr>\n",
       "      <th>2</th>\n",
       "      <td>0</td>\n",
       "      <td>1467810917</td>\n",
       "      <td>Mon Apr 06 22:19:53 PDT 2009</td>\n",
       "      <td>NO_QUERY</td>\n",
       "      <td>mattycus</td>\n",
       "      <td>@Kenichan I dived many times for the ball. Man...</td>\n",
       "    </tr>\n",
       "    <tr>\n",
       "      <th>3</th>\n",
       "      <td>0</td>\n",
       "      <td>1467811184</td>\n",
       "      <td>Mon Apr 06 22:19:57 PDT 2009</td>\n",
       "      <td>NO_QUERY</td>\n",
       "      <td>ElleCTF</td>\n",
       "      <td>my whole body feels itchy and like its on fire</td>\n",
       "    </tr>\n",
       "    <tr>\n",
       "      <th>4</th>\n",
       "      <td>0</td>\n",
       "      <td>1467811193</td>\n",
       "      <td>Mon Apr 06 22:19:57 PDT 2009</td>\n",
       "      <td>NO_QUERY</td>\n",
       "      <td>Karoli</td>\n",
       "      <td>@nationwideclass no, it's not behaving at all....</td>\n",
       "    </tr>\n",
       "  </tbody>\n",
       "</table>\n",
       "</div>"
      ],
      "text/plain": [
       "   label          id                      datetime     query             user  \\\n",
       "0      0  1467810369  Mon Apr 06 22:19:45 PDT 2009  NO_QUERY  _TheSpecialOne_   \n",
       "1      0  1467810672  Mon Apr 06 22:19:49 PDT 2009  NO_QUERY    scotthamilton   \n",
       "2      0  1467810917  Mon Apr 06 22:19:53 PDT 2009  NO_QUERY         mattycus   \n",
       "3      0  1467811184  Mon Apr 06 22:19:57 PDT 2009  NO_QUERY          ElleCTF   \n",
       "4      0  1467811193  Mon Apr 06 22:19:57 PDT 2009  NO_QUERY           Karoli   \n",
       "\n",
       "                                               tweet  \n",
       "0  @switchfoot http://twitpic.com/2y1zl - Awww, t...  \n",
       "1  is upset that he can't update his Facebook by ...  \n",
       "2  @Kenichan I dived many times for the ball. Man...  \n",
       "3    my whole body feels itchy and like its on fire   \n",
       "4  @nationwideclass no, it's not behaving at all....  "
      ]
     },
     "execution_count": 4,
     "metadata": {},
     "output_type": "execute_result"
    }
   ],
   "source": [
    "sentiment140.columns = ['label', 'id', 'datetime', 'query', 'user', 'tweet']\n",
    "sentiment140.head()"
   ]
  },
  {
   "cell_type": "code",
   "execution_count": 5,
   "id": "1795b3b3-36f0-4cbc-98b0-a4aed8d5e886",
   "metadata": {},
   "outputs": [
    {
     "data": {
      "text/plain": [
       "0    800000\n",
       "4    800000\n",
       "Name: label, dtype: int64"
      ]
     },
     "execution_count": 5,
     "metadata": {},
     "output_type": "execute_result"
    }
   ],
   "source": [
    "sentiment140.label.value_counts()"
   ]
  },
  {
   "cell_type": "code",
   "execution_count": 7,
   "id": "4a27a2c8-efbb-49ac-967b-b649a40991db",
   "metadata": {},
   "outputs": [
    {
     "name": "stderr",
     "output_type": "stream",
     "text": [
      "C:\\Users\\maart\\miniconda3\\envs\\nlp_gpu\\lib\\site-packages\\pandas\\core\\generic.py:5494: SettingWithCopyWarning: \n",
      "A value is trying to be set on a copy of a slice from a DataFrame.\n",
      "Try using .loc[row_indexer,col_indexer] = value instead\n",
      "\n",
      "See the caveats in the documentation: https://pandas.pydata.org/pandas-docs/stable/user_guide/indexing.html#returning-a-view-versus-a-copy\n",
      "  self[name] = value\n"
     ]
    },
    {
     "data": {
      "text/plain": [
       "0    800000\n",
       "1    800000\n",
       "Name: label, dtype: int64"
      ]
     },
     "execution_count": 7,
     "metadata": {},
     "output_type": "execute_result"
    }
   ],
   "source": [
    "sentiment140_labeledtweets = sentiment140[['tweet','label']]\n",
    "sentiment140_labeledtweets.label = sentiment140_labeledtweets.label.replace({4:1})\n",
    "sentiment140_labeledtweets.label.value_counts()"
   ]
  },
  {
   "cell_type": "code",
   "execution_count": 8,
   "id": "4b592808-74f0-4955-9b24-d055e70e7548",
   "metadata": {},
   "outputs": [],
   "source": [
    "sentiment140_tweets_positive = sentiment140_labeledtweets[sentiment140_labeledtweets.label==1]\n",
    "sentiment140_tweets_negative = sentiment140_labeledtweets[sentiment140_labeledtweets.label==0]\n",
    "sentiment140_tweets_positive = sentiment140_tweets_positive[:20000]\n",
    "sentiment140_tweets_negative = sentiment140_tweets_negative[:20000]"
   ]
  },
  {
   "cell_type": "code",
   "execution_count": 9,
   "id": "53177b09-74d9-4437-ba43-4db235c06679",
   "metadata": {},
   "outputs": [],
   "source": [
    "sentiment140_posinega = pd.concat([sentiment140_tweets_negative, sentiment140_tweets_positive]).reset_index(drop=True)"
   ]
  },
  {
   "cell_type": "code",
   "execution_count": 18,
   "id": "09441ea6-d910-4e20-8c2e-47245e091291",
   "metadata": {},
   "outputs": [],
   "source": [
    "stopwords_list = stopwords.words('english')\n",
    "punctuations_list = string.punctuation\n",
    "lemmatizer = nltk.stem.WordNetLemmatizer()"
   ]
  },
  {
   "cell_type": "code",
   "execution_count": 19,
   "id": "08a75fe9-6bee-4561-80dc-3359f8662bf4",
   "metadata": {},
   "outputs": [],
   "source": [
    "def clean_stopwords(tweet): \n",
    "    return ' '.join([word for word in tweet.split() if word not in stopwords_list])\n",
    "\n",
    "def clean_url(tweet):\n",
    "    return re.sub('((www\\.[^\\s]+)|(https?://[^\\s]+)|(http?://[^\\s]+))',' ', tweet)\n",
    "\n",
    "def clean_atsigns(tweet):\n",
    "    return re.sub('@\\S*\\s?',' ', tweet)\n",
    "\n",
    "def clean_punctuation(tweet):\n",
    "    translator = str.maketrans('','',punctuations_list)\n",
    "    return tweet.translate(translator)\n",
    "\n",
    "def clean_numbers(tweet):\n",
    "    return re.sub('[0-9]+','',tweet)\n",
    "\n",
    "\n",
    "def nltk_tag_to_wordnet_tag(nltk_tag):\n",
    "    if nltk_tag.startswith('J'):\n",
    "        return wordnet.ADJ\n",
    "    elif nltk_tag.startswith('V'):\n",
    "        return wordnet.VERB\n",
    "    elif nltk_tag.startswith('N'):\n",
    "        return wordnet.NOUN\n",
    "    elif nltk_tag.startswith('R'):\n",
    "        return wordnet.ADV\n",
    "    else:          \n",
    "        return None\n",
    "    \n",
    "def pos_lemma_tweet(tweet):\n",
    "    tokens = word_tokenize(tweet)\n",
    "    pos_tags = nltk.pos_tag(tokens)\n",
    "    wordnet_tagged = map(lambda x: (x[0], nltk_tag_to_wordnet_tag(x[1])), pos_tags)\n",
    "    lemmatized_sentence = []\n",
    "    for word, tag in wordnet_tagged:\n",
    "        if tag is None:\n",
    "            #if there is no available tag, append the token as is\n",
    "            lemmatized_sentence.append(word)\n",
    "        else:        \n",
    "            #else use the tag to lemmatize the token\n",
    "            lemmatized_sentence.append(lemmatizer.lemmatize(word, tag))\n",
    "    return ' '.join(lemmatized_sentence)\n"
   ]
  },
  {
   "cell_type": "code",
   "execution_count": 22,
   "id": "9f68f4a4-36cc-4cb3-b96e-a4f0bf3732c3",
   "metadata": {},
   "outputs": [],
   "source": [
    "sentiment140_posinega.tweet = sentiment140_posinega.tweet.str.lower()\n",
    "sentiment140_posinega.tweet = sentiment140_posinega.tweet.apply(lambda tweet: clean_stopwords(tweet))\n",
    "sentiment140_posinega.tweet = sentiment140_posinega.tweet.apply(lambda t: clean_url(t))\n",
    "sentiment140_posinega.tweet = sentiment140_posinega.tweet.apply(lambda t: clean_atsigns(t))\n",
    "sentiment140_posinega.tweet = sentiment140_posinega.tweet.apply(lambda t: clean_punctuation(t))\n",
    "sentiment140_posinega.tweet = sentiment140_posinega.tweet.apply(lambda t: clean_numbers(t))\n",
    "sentiment140_posinega.tweet = sentiment140_posinega.tweet.apply(lambda t: pos_lemma_tweet(t))"
   ]
  },
  {
   "cell_type": "code",
   "execution_count": 23,
   "id": "bf80edf2-f80c-4159-968f-19601f28f290",
   "metadata": {},
   "outputs": [],
   "source": [
    "sentiment140_posinega = sentiment140_posinega[sentiment140_posinega.tweet!='']"
   ]
  },
  {
   "cell_type": "code",
   "execution_count": 24,
   "id": "0fe1064b-7845-42e7-9250-fe7ed5e0a859",
   "metadata": {},
   "outputs": [
    {
     "data": {
      "text/html": [
       "<div>\n",
       "<style scoped>\n",
       "    .dataframe tbody tr th:only-of-type {\n",
       "        vertical-align: middle;\n",
       "    }\n",
       "\n",
       "    .dataframe tbody tr th {\n",
       "        vertical-align: top;\n",
       "    }\n",
       "\n",
       "    .dataframe thead th {\n",
       "        text-align: right;\n",
       "    }\n",
       "</style>\n",
       "<table border=\"1\" class=\"dataframe\">\n",
       "  <thead>\n",
       "    <tr style=\"text-align: right;\">\n",
       "      <th></th>\n",
       "      <th>tweet</th>\n",
       "      <th>label</th>\n",
       "    </tr>\n",
       "  </thead>\n",
       "  <tbody>\n",
       "  </tbody>\n",
       "</table>\n",
       "</div>"
      ],
      "text/plain": [
       "Empty DataFrame\n",
       "Columns: [tweet, label]\n",
       "Index: []"
      ]
     },
     "execution_count": 24,
     "metadata": {},
     "output_type": "execute_result"
    }
   ],
   "source": [
    "sentiment140_posinega[sentiment140_posinega.tweet.isna()]"
   ]
  },
  {
   "cell_type": "markdown",
   "id": "10c90cb8-2318-4af5-9d81-d7398e48ab48",
   "metadata": {},
   "source": [
    "### FLAIR"
   ]
  },
  {
   "cell_type": "code",
   "execution_count": 25,
   "id": "78c13e05-e7f4-4b8b-86e5-297a60d8125c",
   "metadata": {},
   "outputs": [],
   "source": [
    "import flair\n",
    "flair_sentiment = flair.models.TextClassifier.load('en-sentiment')"
   ]
  },
  {
   "cell_type": "code",
   "execution_count": 25,
   "id": "db4684eb-2ded-4143-8ca0-ffbe2e197b8d",
   "metadata": {},
   "outputs": [],
   "source": [
    "def predict_flair(tweet):\n",
    "    s = flair.data.Sentence(tweet)\n",
    "    flair_sentiment.predict(s)\n",
    "    total_sentiment = s.labels\n",
    "    string_sentiment = str(total_sentiment[0])\n",
    "    if string_sentiment.startswith('POSITIVE'):\n",
    "        return 1\n",
    "    else:\n",
    "        return 0"
   ]
  },
  {
   "cell_type": "code",
   "execution_count": 30,
   "id": "1ae6e4d7-42f4-483c-9d3e-430c7287fd34",
   "metadata": {},
   "outputs": [],
   "source": [
    "sentiment140_posinega['predicted_label_flair'] = sentiment140_posinega.tweet.apply(lambda t: predict_flair(t))"
   ]
  },
  {
   "cell_type": "code",
   "execution_count": 32,
   "id": "0d176ae4-53d9-40a4-a837-841b51f2397b",
   "metadata": {},
   "outputs": [],
   "source": [
    "y_test = sentiment140_posinega.label\n",
    "y_pred = sentiment140_posinega.predicted_label_flair"
   ]
  },
  {
   "cell_type": "code",
   "execution_count": 35,
   "id": "3a8887d8-3e72-422c-a4da-267ec23a81c5",
   "metadata": {},
   "outputs": [
    {
     "name": "stdout",
     "output_type": "stream",
     "text": [
      "[[13398  6541]\n",
      " [ 6791 13135]]\n",
      "auc score: 0.66556922255356\n",
      "accuracy: 0.665571303148125\n"
     ]
    }
   ],
   "source": [
    "print(confusion_matrix(y_test, y_pred))\n",
    "print('auc score:', roc_auc_score(y_test, y_pred))\n",
    "print('accuracy:', accuracy_score(y_test, y_pred))"
   ]
  },
  {
   "cell_type": "markdown",
   "id": "342672e5-3ee7-45ab-a480-00323548444e",
   "metadata": {},
   "source": [
    "## NLTK WITH VADER"
   ]
  },
  {
   "cell_type": "code",
   "execution_count": 37,
   "id": "3749ed79-1f40-4bcb-91b5-d6904cc24242",
   "metadata": {},
   "outputs": [
    {
     "name": "stderr",
     "output_type": "stream",
     "text": [
      "[nltk_data] Downloading package vader_lexicon to\n",
      "[nltk_data]     C:\\Users\\maart\\AppData\\Roaming\\nltk_data...\n",
      "[nltk_data]   Package vader_lexicon is already up-to-date!\n"
     ]
    }
   ],
   "source": [
    "import nltk\n",
    "nltk.download('vader_lexicon')\n",
    "from nltk.sentiment.vader import SentimentIntensityAnalyzer"
   ]
  },
  {
   "cell_type": "code",
   "execution_count": 39,
   "id": "6f565698-0a05-4a6f-9df7-077373680e77",
   "metadata": {},
   "outputs": [],
   "source": [
    "sid = SentimentIntensityAnalyzer()"
   ]
  },
  {
   "cell_type": "code",
   "execution_count": 42,
   "id": "9721e589-233d-4b57-a0ff-be7e9e26c755",
   "metadata": {},
   "outputs": [],
   "source": [
    "def predict_nltk_vader(tweet):\n",
    "    sid = SentimentIntensityAnalyzer()\n",
    "    sentiment = sid.polarity_scores(tweet)['compound']\n",
    "    if sentiment > 0:\n",
    "        return 1\n",
    "    else:\n",
    "        return 0"
   ]
  },
  {
   "cell_type": "code",
   "execution_count": 43,
   "id": "3abc5ffa-5e6d-4e75-9d10-cb139984df64",
   "metadata": {},
   "outputs": [],
   "source": [
    "sentiment140_posinega['predicted_label_nltk_vader'] = sentiment140_posinega.tweet.apply(lambda t: predict_nltk_vader(t))"
   ]
  },
  {
   "cell_type": "code",
   "execution_count": 44,
   "id": "5c9bb23e-7252-4698-8f05-58bef9d85543",
   "metadata": {},
   "outputs": [],
   "source": [
    "y_test = sentiment140_posinega.label\n",
    "y_pred = sentiment140_posinega.predicted_label_nltk_vader"
   ]
  },
  {
   "cell_type": "code",
   "execution_count": 45,
   "id": "ed0db2e6-a982-48ca-83ac-01642ac93cf2",
   "metadata": {},
   "outputs": [
    {
     "name": "stdout",
     "output_type": "stream",
     "text": [
      "[[12700  7239]\n",
      " [ 7495 12431]]\n",
      "auc score: 0.6304004753895145\n",
      "accuracy: 0.6304026088047159\n"
     ]
    }
   ],
   "source": [
    "print(confusion_matrix(y_test, y_pred))\n",
    "print('auc score:', roc_auc_score(y_test, y_pred))\n",
    "print('accuracy:', accuracy_score(y_test, y_pred))"
   ]
  },
  {
   "cell_type": "markdown",
   "id": "6d783614-c9e2-4c33-848c-851549ddfd71",
   "metadata": {},
   "source": [
    "### TEXTBLOB"
   ]
  },
  {
   "cell_type": "code",
   "execution_count": 46,
   "id": "0bb7a9ab-6ba6-4caf-a595-6a851a044b76",
   "metadata": {},
   "outputs": [],
   "source": [
    "from textblob import TextBlob"
   ]
  },
  {
   "cell_type": "code",
   "execution_count": 47,
   "id": "9e2c92e1-77a0-430d-93a9-9692e1f33f0c",
   "metadata": {},
   "outputs": [],
   "source": [
    "def predict_textblob(tweet):\n",
    "    polarity = TextBlob(tweet).sentiment.polarity\n",
    "    if polarity > 0:\n",
    "        return 1\n",
    "    else:\n",
    "        return 0"
   ]
  },
  {
   "cell_type": "code",
   "execution_count": 48,
   "id": "2da67e6e-a809-4b42-8015-cd10ddba358d",
   "metadata": {},
   "outputs": [],
   "source": [
    "sentiment140_posinega['predicted_label_textblob'] = sentiment140_posinega.tweet.apply(lambda t: predict_textblob(t))"
   ]
  },
  {
   "cell_type": "code",
   "execution_count": 49,
   "id": "e1fa915e-2fc9-404c-a906-24ff35fae527",
   "metadata": {},
   "outputs": [],
   "source": [
    "y_test = sentiment140_posinega.label\n",
    "y_pred = sentiment140_posinega.predicted_label_textblob"
   ]
  },
  {
   "cell_type": "code",
   "execution_count": 50,
   "id": "acc86a5d-07c3-4f1c-94e8-906d46506585",
   "metadata": {},
   "outputs": [
    {
     "name": "stdout",
     "output_type": "stream",
     "text": [
      "[[13797  6142]\n",
      " [ 9246 10680]]\n",
      "auc score: 0.613971808535757\n",
      "accuracy: 0.6139972406873198\n"
     ]
    }
   ],
   "source": [
    "print(confusion_matrix(y_test, y_pred))\n",
    "print('auc score:', roc_auc_score(y_test, y_pred))\n",
    "print('accuracy:', accuracy_score(y_test, y_pred))"
   ]
  },
  {
   "cell_type": "markdown",
   "id": "4815e16d-cddd-4ee6-a7e0-bbcf8fe933c7",
   "metadata": {},
   "source": [
    "### PREDICT ON TWINT TWEETS: BLACKMIRROR"
   ]
  },
  {
   "cell_type": "code",
   "execution_count": 51,
   "id": "42e4aced-608b-40f2-9e95-0369b043b7d2",
   "metadata": {},
   "outputs": [],
   "source": [
    "tweets_blackmirror_df = pd.read_csv('csv/tweets.csv')"
   ]
  },
  {
   "cell_type": "code",
   "execution_count": 52,
   "id": "01b88728-434a-46da-9a50-1cf90bf635d4",
   "metadata": {},
   "outputs": [],
   "source": [
    "tweets_blackmirror_df = tweets_blackmirror_df[tweets_blackmirror_df.language=='en']\n",
    "tweets_blackmirror_df.reset_index(drop=True, inplace=True)"
   ]
  },
  {
   "cell_type": "code",
   "execution_count": 53,
   "id": "18905d39-e2dc-4287-9c69-c75c411c761f",
   "metadata": {},
   "outputs": [
    {
     "data": {
      "text/plain": [
       "en    9211\n",
       "Name: language, dtype: int64"
      ]
     },
     "execution_count": 53,
     "metadata": {},
     "output_type": "execute_result"
    }
   ],
   "source": [
    "tweets_blackmirror_df.language.value_counts()"
   ]
  },
  {
   "cell_type": "code",
   "execution_count": 54,
   "id": "9521012c-5faf-424b-b2c0-1bb1fdf639a0",
   "metadata": {},
   "outputs": [
    {
     "data": {
      "text/plain": [
       "0       @caitoz @RealSexyCyborg It's all cute dog robo...\n",
       "1       @BusinessInsider what else was Steve Jobs doin...\n",
       "2       New black mirror season dropped  https://t.co/...\n",
       "3       Be trying to remember the exact moment life be...\n",
       "4       @Chris_Skinner Sounds like a Black Mirror nigh...\n",
       "                              ...                        \n",
       "9206    Okay so I really enjoyed all the seasons of Bl...\n",
       "9207    y'all my San Junipero poster finally arrived!!...\n",
       "9208    We really are in the current season of “Black ...\n",
       "9209    @BigRedDawg_ @mtcbtc @gegelsmr2 Came to say ju...\n",
       "9210    How many more episodes are there of the #Black...\n",
       "Name: tweet, Length: 9211, dtype: object"
      ]
     },
     "execution_count": 54,
     "metadata": {},
     "output_type": "execute_result"
    }
   ],
   "source": [
    "tweets_blackmirror_df.tweet"
   ]
  },
  {
   "cell_type": "code",
   "execution_count": 56,
   "id": "25555c29-2585-4847-ba1f-c77668c6a8ba",
   "metadata": {},
   "outputs": [],
   "source": [
    "tweets_blackmirror_df.tweet = tweets_blackmirror_df.tweet.str.lower()\n",
    "tweets_blackmirror_hashtag = tweets_blackmirror_df[tweets_blackmirror_df.tweet.str.contains('#blackmirror')]\n",
    "tweets_blackmirror_hashtag['tweet']"
   ]
  },
  {
   "cell_type": "code",
   "execution_count": null,
   "id": "a6cc2357-b630-4e99-834b-5d07fd916ec0",
   "metadata": {},
   "outputs": [],
   "source": [
    "tweets_blackmirror_hashtag_tweet = tweets_blackmirror_hashtag.tweet"
   ]
  },
  {
   "cell_type": "code",
   "execution_count": 59,
   "id": "c119cc13-a344-45a3-8c37-f9955736bbed",
   "metadata": {},
   "outputs": [],
   "source": [
    "tweets_to_predict = tweets_blackmirror_hashtag_tweet"
   ]
  },
  {
   "cell_type": "code",
   "execution_count": 60,
   "id": "1c77f4fd-7807-4b5b-a4e2-ce6207cb9bb3",
   "metadata": {},
   "outputs": [],
   "source": [
    "tweets_to_predict.reset_index(drop=True, inplace=True)"
   ]
  },
  {
   "cell_type": "code",
   "execution_count": 61,
   "id": "d02f3572-abe0-4063-867a-8f7ea7f96e39",
   "metadata": {},
   "outputs": [],
   "source": [
    "def preprocess_my_way(tweets: pd.Series):\n",
    "    tweets = tweets.str.lower()\n",
    "    tweets = tweets.apply(lambda t: clean_stopwords(t))\n",
    "    tweets = tweets.apply(lambda t: clean_url(t))\n",
    "    tweets = tweets.apply(lambda t: clean_atsigns(t))\n",
    "    tweets = tweets.apply(lambda t: clean_punctuation(t))\n",
    "    tweets = tweets.apply(lambda t: clean_numbers(t))\n",
    "    tweets = tweets.apply(lambda t: pos_lemma_tweet(t))  \n",
    "    return tweets"
   ]
  },
  {
   "cell_type": "code",
   "execution_count": 63,
   "id": "c6ea8a16-1f7f-4b45-b014-ce24ad802b4b",
   "metadata": {},
   "outputs": [],
   "source": [
    "tweets_to_predict_preprocessed = preprocess_my_way(tweets_to_predict)"
   ]
  },
  {
   "cell_type": "code",
   "execution_count": 66,
   "id": "73864d0d-9336-498f-adbd-4e8bd665d0ac",
   "metadata": {},
   "outputs": [],
   "source": [
    "predicted_labels_flair = tweets_to_predict_preprocessed.apply(lambda t: predict_flair(t))\n",
    "predicted_labels_nltk_vader = tweets_to_predict_preprocessed.apply(lambda t: predict_nltk_vader(t))\n",
    "predicted_labels_textblob = tweets_to_predict_preprocessed.apply(lambda t: predict_textblob(t))"
   ]
  },
  {
   "cell_type": "code",
   "execution_count": 67,
   "id": "ce02a2d9-3ca4-4d26-8e08-152c7ff8bf14",
   "metadata": {},
   "outputs": [
    {
     "name": "stdout",
     "output_type": "stream",
     "text": [
      "0    725\n",
      "1    519\n",
      "Name: tweet, dtype: int64\n",
      "0    758\n",
      "1    486\n",
      "Name: tweet, dtype: int64\n",
      "0    842\n",
      "1    402\n",
      "Name: tweet, dtype: int64\n"
     ]
    }
   ],
   "source": [
    "print(predicted_labels_flair.value_counts())\n",
    "print(predicted_labels_nltk_vader.value_counts())\n",
    "print(predicted_labels_textblob.value_counts())"
   ]
  },
  {
   "cell_type": "code",
   "execution_count": 68,
   "id": "153f4549-5bc6-4aa2-af90-6b772a472356",
   "metadata": {},
   "outputs": [],
   "source": [
    "df_dict = {'tweet': tweets_to_predict_preprocessed,\n",
    "          'predictions_flair': predicted_labels_flair,\n",
    "          'predictions_nltk_vader': predicted_labels_nltk_vader,\n",
    "          'predictions_textblob': predicted_labels_textblob}\n",
    "sentiment_predictions_df = pd.DataFrame(df_dict)"
   ]
  },
  {
   "cell_type": "code",
   "execution_count": 69,
   "id": "879f58b0-14f1-47a2-a36b-7e7830874c56",
   "metadata": {},
   "outputs": [
    {
     "data": {
      "text/html": [
       "<div>\n",
       "<style scoped>\n",
       "    .dataframe tbody tr th:only-of-type {\n",
       "        vertical-align: middle;\n",
       "    }\n",
       "\n",
       "    .dataframe tbody tr th {\n",
       "        vertical-align: top;\n",
       "    }\n",
       "\n",
       "    .dataframe thead th {\n",
       "        text-align: right;\n",
       "    }\n",
       "</style>\n",
       "<table border=\"1\" class=\"dataframe\">\n",
       "  <thead>\n",
       "    <tr style=\"text-align: right;\">\n",
       "      <th></th>\n",
       "      <th>tweet</th>\n",
       "      <th>predictions_flair</th>\n",
       "      <th>predictions_nltk_vader</th>\n",
       "      <th>predictions_textblob</th>\n",
       "    </tr>\n",
       "  </thead>\n",
       "  <tbody>\n",
       "    <tr>\n",
       "      <th>0</th>\n",
       "      <td>cute dog robot strap highpower automatic rifle...</td>\n",
       "      <td>1</td>\n",
       "      <td>1</td>\n",
       "      <td>1</td>\n",
       "    </tr>\n",
       "    <tr>\n",
       "      <th>1</th>\n",
       "      <td>next blackmirror anthology include story someo...</td>\n",
       "      <td>1</td>\n",
       "      <td>1</td>\n",
       "      <td>0</td>\n",
       "    </tr>\n",
       "    <tr>\n",
       "      <th>2</th>\n",
       "      <td>maybe this blackmirror season episode metalhead</td>\n",
       "      <td>0</td>\n",
       "      <td>0</td>\n",
       "      <td>0</td>\n",
       "    </tr>\n",
       "    <tr>\n",
       "      <th>3</th>\n",
       "      <td>like bandersnatch blackmirror</td>\n",
       "      <td>1</td>\n",
       "      <td>1</td>\n",
       "      <td>0</td>\n",
       "    </tr>\n",
       "    <tr>\n",
       "      <th>4</th>\n",
       "      <td>remember episode blackmirror nocontexttv netflix</td>\n",
       "      <td>0</td>\n",
       "      <td>0</td>\n",
       "      <td>0</td>\n",
       "    </tr>\n",
       "    <tr>\n",
       "      <th>...</th>\n",
       "      <td>...</td>\n",
       "      <td>...</td>\n",
       "      <td>...</td>\n",
       "      <td>...</td>\n",
       "    </tr>\n",
       "    <tr>\n",
       "      <th>1239</th>\n",
       "      <td>okay really enjoyed season black mirror except...</td>\n",
       "      <td>0</td>\n",
       "      <td>1</td>\n",
       "      <td>1</td>\n",
       "    </tr>\n",
       "    <tr>\n",
       "      <th>1240</th>\n",
       "      <td>yall san junipero poster finally arrive ok sui...</td>\n",
       "      <td>0</td>\n",
       "      <td>0</td>\n",
       "      <td>1</td>\n",
       "    </tr>\n",
       "    <tr>\n",
       "      <th>1241</th>\n",
       "      <td>really current season “ black mirror ” blackmi...</td>\n",
       "      <td>1</td>\n",
       "      <td>0</td>\n",
       "      <td>0</td>\n",
       "    </tr>\n",
       "    <tr>\n",
       "      <th>1242</th>\n",
       "      <td>come say this he ’ ll get ride truck driver so...</td>\n",
       "      <td>0</td>\n",
       "      <td>0</td>\n",
       "      <td>0</td>\n",
       "    </tr>\n",
       "    <tr>\n",
       "      <th>1243</th>\n",
       "      <td>many episode blackmirror season currently live</td>\n",
       "      <td>1</td>\n",
       "      <td>0</td>\n",
       "      <td>1</td>\n",
       "    </tr>\n",
       "  </tbody>\n",
       "</table>\n",
       "<p>1244 rows × 4 columns</p>\n",
       "</div>"
      ],
      "text/plain": [
       "                                                  tweet  predictions_flair  \\\n",
       "0     cute dog robot strap highpower automatic rifle...                  1   \n",
       "1     next blackmirror anthology include story someo...                  1   \n",
       "2       maybe this blackmirror season episode metalhead                  0   \n",
       "3                         like bandersnatch blackmirror                  1   \n",
       "4      remember episode blackmirror nocontexttv netflix                  0   \n",
       "...                                                 ...                ...   \n",
       "1239  okay really enjoyed season black mirror except...                  0   \n",
       "1240  yall san junipero poster finally arrive ok sui...                  0   \n",
       "1241  really current season “ black mirror ” blackmi...                  1   \n",
       "1242  come say this he ’ ll get ride truck driver so...                  0   \n",
       "1243     many episode blackmirror season currently live                  1   \n",
       "\n",
       "      predictions_nltk_vader  predictions_textblob  \n",
       "0                          1                     1  \n",
       "1                          1                     0  \n",
       "2                          0                     0  \n",
       "3                          1                     0  \n",
       "4                          0                     0  \n",
       "...                      ...                   ...  \n",
       "1239                       1                     1  \n",
       "1240                       0                     1  \n",
       "1241                       0                     0  \n",
       "1242                       0                     0  \n",
       "1243                       0                     1  \n",
       "\n",
       "[1244 rows x 4 columns]"
      ]
     },
     "execution_count": 69,
     "metadata": {},
     "output_type": "execute_result"
    }
   ],
   "source": [
    "sentiment_predictions_df"
   ]
  }
 ],
 "metadata": {
  "kernelspec": {
   "display_name": "nlp_gpu",
   "language": "python",
   "name": "nlp_gpu"
  },
  "language_info": {
   "codemirror_mode": {
    "name": "ipython",
    "version": 3
   },
   "file_extension": ".py",
   "mimetype": "text/x-python",
   "name": "python",
   "nbconvert_exporter": "python",
   "pygments_lexer": "ipython3",
   "version": "3.7.10"
  }
 },
 "nbformat": 4,
 "nbformat_minor": 5
}
